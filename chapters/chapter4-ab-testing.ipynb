{
 "cells": [
  {
   "cell_type": "code",
   "execution_count": 89,
   "metadata": {},
   "outputs": [],
   "source": [
    "import numpy as np\n",
    "import pandas as pd\n",
    "from scipy.stats import ttest_ind\n",
    "from statsmodels.stats.power import TTestIndPower"
   ]
  },
  {
   "cell_type": "markdown",
   "metadata": {},
   "source": [
    "We import two groups of customers, one subscribed to a desktop mailing list, the other subscribed to a laptop mailing list."
   ]
  },
  {
   "cell_type": "code",
   "execution_count": 29,
   "metadata": {},
   "outputs": [],
   "source": [
    "desktop = pd.read_csv(\"https://bradfordtuckfield.com/desktop.csv\")\n",
    "laptop = pd.read_csv(\"https://bradfordtuckfield.com/laptop.csv\")"
   ]
  },
  {
   "cell_type": "markdown",
   "metadata": {},
   "source": [
    "In a t-test, the test statistic measures the difference between the means of two groups relative to the variability within the groups:\n",
    "\n",
    "$$\n",
    "t = \\frac{\\bar{x}_1 - \\bar{x}_2}{\\sqrt{\\frac{s_1^2}{n_1} + \\frac{s_2^2}{n_2}}}\n",
    "$$\n"
   ]
  },
  {
   "cell_type": "code",
   "execution_count": 35,
   "metadata": {},
   "outputs": [
    {
     "name": "stdout",
     "output_type": "stream",
     "text": [
      "Ttest_indResult(statistic=-2.109853741030508, pvalue=0.03919630411621095)\n",
      "Ttest_indResult(statistic=-0.7101437106800108, pvalue=0.4804606394128761)\n",
      "Ttest_indResult(statistic=0.20626752311535543, pvalue=0.8373043059847984)\n"
     ]
    }
   ],
   "source": [
    "print(ttest_ind(desktop[\"spending\"],laptop[\"spending\"]))\n",
    "print(ttest_ind(desktop[\"age\"],laptop[\"age\"]))\n",
    "print(ttest_ind(desktop[\"visits\"],laptop[\"visits\"]))"
   ]
  },
  {
   "cell_type": "markdown",
   "metadata": {},
   "source": [
    "There's a statistically significant (at the 5% significance level) difference between the spending and ages of the two groups."
   ]
  },
  {
   "cell_type": "markdown",
   "metadata": {},
   "source": [
    "#### Running Experiments to Test New Hypotheses\n",
    "\n",
    "Suppose we’re interested in studying whether changing the color of text in our marketing emails from black to blue will increase the revenue we earn as a result of the emails:\n",
    "\n",
    "- **Hypothesis 0** - Changing the color of text in our emails from black to blue will have no effect on revenues.\n",
    "\n",
    "- **Hypothesis 1** - Changing the color of text in our emails from black to blue will lead to a change in revenues (either an increase or a decrease)."
   ]
  },
  {
   "cell_type": "markdown",
   "metadata": {},
   "source": [
    "Although it leads to problems in our analysis, for demonstration purposes, we split the desktop subscriber list into two groups based on whether age is below or above the median:"
   ]
  },
  {
   "cell_type": "code",
   "execution_count": 41,
   "metadata": {},
   "outputs": [],
   "source": [
    "median_age = np.median(desktop[\"age\"])\n",
    "group_a = desktop.loc[desktop[\"age\"] <= median_age,:]\n",
    "group_b = desktop.loc[desktop[\"age\"] > median_age,:]"
   ]
  },
  {
   "cell_type": "code",
   "execution_count": 44,
   "metadata": {},
   "outputs": [],
   "source": [
    "# Read the fabricated data showing hypothetical outcomes for members of two groups:\n",
    "email_results_1 = pd.read_csv(\"https://bradfordtuckfield.com/emailresults1.csv\")"
   ]
  },
  {
   "cell_type": "code",
   "execution_count": 45,
   "metadata": {},
   "outputs": [],
   "source": [
    "# Join the groups with the results:\n",
    "group_a_with_revenue = group_a.merge(email_results_1, on=\"userid\")\n",
    "group_b_with_revenue = group_b.merge(email_results_1, on=\"userid\")"
   ]
  },
  {
   "cell_type": "code",
   "execution_count": 50,
   "metadata": {},
   "outputs": [
    {
     "name": "stdout",
     "output_type": "stream",
     "text": [
      "Ttest_indResult(statistic=-2.186454851070545, pvalue=0.03730073920038287)\n"
     ]
    }
   ],
   "source": [
    "# Perform a t-test to check whether revenue difference \n",
    "# between the two groups is statistically significant:\n",
    "print(ttest_ind(group_a_with_revenue[\"revenue\"],group_b_with_revenue[\"revenue\"]))\n"
   ]
  },
  {
   "cell_type": "code",
   "execution_count": 83,
   "metadata": {},
   "outputs": [
    {
     "name": "stdout",
     "output_type": "stream",
     "text": [
      "125.0\n"
     ]
    }
   ],
   "source": [
    "# Calculate the size of the difference:\n",
    "results_1_effect_size = np.mean(group_b_with_revenue[\"revenue\"])-np.mean(group_a_with_revenue[\"revenue\"])\n",
    "print(results_1_effect_size)"
   ]
  },
  {
   "cell_type": "code",
   "execution_count": 85,
   "metadata": {},
   "outputs": [
    {
     "name": "stdout",
     "output_type": "stream",
     "text": [
      "0.763769235188029\n"
     ]
    }
   ],
   "source": [
    "# Calculate Cohen's d:\n",
    "results_1_cohen_d = results_1_effect_size / np.std(email_results_1[\"revenue\"])\n",
    "print(results_1_cohen_d)"
   ]
  },
  {
   "cell_type": "markdown",
   "metadata": {},
   "source": [
    "There's a stistically significant (at the 5% level) difference of $125 between the average spend of the two groups. \n",
    "\n",
    "However, because we split the population by age into young and old, the A/B test is _confounded_: we can't say that the difference is due to text color.\n",
    "\n",
    "This time, we split the laptop subscriber list into two random groups. We want to test whether adding a picture to a marketing email will improve revenue:"
   ]
  },
  {
   "cell_type": "code",
   "execution_count": 66,
   "metadata": {},
   "outputs": [],
   "source": [
    "# Generate random indices for splitting\n",
    "np.random.seed(18811015)\n",
    "random_indices = np.random.permutation(laptop.index)\n",
    "split_point = int(0.5 * len(random_indices))\n",
    "\n",
    "# Split the DataFrame into two groups\n",
    "group_c = laptop.loc[random_indices[:split_point]]\n",
    "group_d = laptop.loc[random_indices[split_point:]]"
   ]
  },
  {
   "cell_type": "code",
   "execution_count": 76,
   "metadata": {},
   "outputs": [],
   "source": [
    "# Use textbook method of splitting the DataFrame\n",
    "np.random.seed(18811015)\n",
    "laptop.loc[:,'group_assignment_1'] = 1*(np.random.random(len(laptop.index))>0.5)\n",
    "group_c = laptop.loc[laptop['group_assignment_1'] == 0,:].copy()\n",
    "group_d = laptop.loc[laptop['group_assignment_1'] == 1,:].copy()\n"
   ]
  },
  {
   "cell_type": "code",
   "execution_count": 77,
   "metadata": {},
   "outputs": [],
   "source": [
    "# Read the fabricated data showing hypothetical outcomes for members of two groups:\n",
    "email_results_2 = pd.read_csv(\"https://bradfordtuckfield.com/emailresults2.csv\")"
   ]
  },
  {
   "cell_type": "code",
   "execution_count": 78,
   "metadata": {},
   "outputs": [],
   "source": [
    "# Join the groups with the results:\n",
    "group_c_with_revenue = group_c.merge(email_results_2, on=\"userid\")\n",
    "group_d_with_revenue = group_d.merge(email_results_2, on=\"userid\")"
   ]
  },
  {
   "cell_type": "code",
   "execution_count": 79,
   "metadata": {},
   "outputs": [
    {
     "name": "stdout",
     "output_type": "stream",
     "text": [
      "Ttest_indResult(statistic=-2.381320497676198, pvalue=0.024288828555138562)\n"
     ]
    }
   ],
   "source": [
    "# Perform a t-test to check whether revenue difference \n",
    "# between the two groups is statistically significant:\n",
    "print(ttest_ind(group_c_with_revenue[\"revenue\"], group_d_with_revenue[\"revenue\"]))"
   ]
  },
  {
   "cell_type": "markdown",
   "metadata": {},
   "source": [
    "We conclude that including the picture in the email has a nonzero effect. "
   ]
  },
  {
   "cell_type": "code",
   "execution_count": 86,
   "metadata": {},
   "outputs": [
    {
     "name": "stdout",
     "output_type": "stream",
     "text": [
      "260.3333333333333\n"
     ]
    }
   ],
   "source": [
    "results_2_effect_size = np.mean(group_d_with_revenue['revenue'])-np.mean(group_c_with_revenue['revenue'])\n",
    "print(results_2_effect_size)"
   ]
  },
  {
   "cell_type": "code",
   "execution_count": 88,
   "metadata": {},
   "outputs": [
    {
     "name": "stdout",
     "output_type": "stream",
     "text": [
      "0.8207707199745888\n"
     ]
    }
   ],
   "source": [
    "results_2_cohen_d = results_2_effect_size / np.std(email_results_2[\"revenue\"])\n",
    "print(results_2_cohen_d)"
   ]
  },
  {
   "cell_type": "markdown",
   "metadata": {},
   "source": [
    "The difference between mean revenue from Group C and mean revenue from Group D, about $260, is the size of the effect of our experiment."
   ]
  },
  {
   "cell_type": "markdown",
   "metadata": {},
   "source": [
    "#### Statistical Power\n",
    "\n",
    "The probability that a correctly run A/B test will correctly reject a null hypothesis is called its _statistical power_.\n",
    "\n",
    "To calculate the power of a test with `TTestIndPower`, we need to define:\n",
    "\n",
    "- `alpha` - the chosen statistical significance threshold\n",
    "\n",
    "- `nobs` - the number of observations\n",
    "\n",
    "- `estimated effect size` - defined in terms of `Cohen's d`"
   ]
  },
  {
   "cell_type": "markdown",
   "metadata": {},
   "source": [
    "Suppose we run an A/B test on a geroup of email subscribers consisting of 90 people. We have 45 people in group A and 45 people in group B. We want to calculate the power of a test which can detect a difference as big as the one we saw in our first A/B test."
   ]
  },
  {
   "cell_type": "code",
   "execution_count": 90,
   "metadata": {},
   "outputs": [],
   "source": [
    "alpha = 0.05\n",
    "nobs = 45\n",
    "effect_size = 0.5 # From the $125 difference we observed in our first A/B test"
   ]
  },
  {
   "cell_type": "code",
   "execution_count": 91,
   "metadata": {},
   "outputs": [],
   "source": [
    "analysis = TTestIndPower()\n",
    "power = analysis.solve_power(effect_size=effect_size, nobs1=nobs, alpha=alpha)"
   ]
  },
  {
   "cell_type": "code",
   "execution_count": 92,
   "metadata": {},
   "outputs": [
    {
     "name": "stdout",
     "output_type": "stream",
     "text": [
      "0.6501855020289932\n"
     ]
    }
   ],
   "source": [
    "print(power)"
   ]
  },
  {
   "cell_type": "markdown",
   "metadata": {},
   "source": [
    "We expect a 65% chance that our test can detect an effect of this size."
   ]
  },
  {
   "cell_type": "markdown",
   "metadata": {},
   "source": [
    "Suppose we want to work out the number of observations we would need to detect an effect 80% of the time:"
   ]
  },
  {
   "cell_type": "code",
   "execution_count": 93,
   "metadata": {},
   "outputs": [],
   "source": [
    "power = 0.8\n",
    "observations = analysis.solve_power(effect_size = effect_size, power=power, alpha=alpha)"
   ]
  },
  {
   "cell_type": "code",
   "execution_count": 94,
   "metadata": {},
   "outputs": [
    {
     "name": "stdout",
     "output_type": "stream",
     "text": [
      "63.76561177540986\n"
     ]
    }
   ],
   "source": [
    "print(observations)"
   ]
  },
  {
   "cell_type": "markdown",
   "metadata": {},
   "source": [
    "We would need at least 64 participants."
   ]
  },
  {
   "cell_type": "code",
   "execution_count": null,
   "metadata": {},
   "outputs": [],
   "source": []
  }
 ],
 "metadata": {
  "language_info": {
   "name": "python"
  },
  "orig_nbformat": 4
 },
 "nbformat": 4,
 "nbformat_minor": 2
}
