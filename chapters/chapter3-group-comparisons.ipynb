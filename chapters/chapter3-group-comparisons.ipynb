{
 "cells": [
  {
   "cell_type": "code",
   "execution_count": 1,
   "metadata": {},
   "outputs": [],
   "source": [
    "import numpy as np\n",
    "import pandas as pd\n",
    "import requests\n",
    "import seaborn as sns\n",
    "from matplotlib import pyplot as plt\n",
    "from bs4 import BeautifulSoup\n",
    "from scipy.stats import ttest_ind, mannwhitneyu"
   ]
  },
  {
   "cell_type": "markdown",
   "metadata": {},
   "source": [
    "Import the heights, weights and ages of major league baseball players from https://web.archive.org/web/20220629205951/https://wiki.stat.ucla.edu/socr/index.php/SOCR_Data_MLB_HeightsWeights."
   ]
  },
  {
   "cell_type": "code",
   "execution_count": 2,
   "metadata": {},
   "outputs": [],
   "source": [
    "# URL of the website containing the table\n",
    "url = \"https://web.archive.org/web/20220629205951/https://wiki.stat.ucla.edu/socr/index.php/SOCR_Data_MLB_HeightsWeights\"\n",
    "\n",
    "# Send a GET request to fetch the webpage\"s HTML content\n",
    "response = requests.get(url)\n",
    "html_content = response.content\n",
    "\n",
    "# Parse the HTML content using BeautifulSoup\n",
    "soup = BeautifulSoup(html_content, \"html.parser\")\n",
    "\n",
    "# Find the table using its tag and any identifying attributes\n",
    "table = soup.find(\"table\", {\"class\": \"wikitable\"})\n",
    "\n",
    "# Extract table data into a list of rows\n",
    "table_rows = table.find_all(\"tr\")\n",
    "\n",
    "# Initialize lists to store rows and column names\n",
    "rows = []\n",
    "column_names = []\n",
    "\n",
    "# Extract table data into rows list\n",
    "for row in table_rows:\n",
    "    cells = row.find_all([\"th\", \"td\"])\n",
    "    row_data = [cell.text.strip() for cell in cells]\n",
    "    if not column_names:\n",
    "        column_names = row_data  # Store column names from the first row\n",
    "    else:\n",
    "        rows.append(row_data)\n",
    "\n",
    "# Convert rows list into a list of dictionaries\n",
    "data = [dict(zip(column_names, row)) for row in rows]"
   ]
  },
  {
   "cell_type": "code",
   "execution_count": 3,
   "metadata": {},
   "outputs": [],
   "source": [
    "# Data types mapping for each column\n",
    "dtype_mapping = {\n",
    "    \"Name\": str,\n",
    "    \"Team\": str,\n",
    "    \"Position\": str,\n",
    "    \"Height(inches)\": float,\n",
    "    \"Weight(pounds)\": float,\n",
    "    \"Age\": float\n",
    "}\n",
    "\n",
    "# Create a DataFrame from the list of dictionaries with specified data types\n",
    "df = pd.DataFrame(data)\n",
    "\n",
    "# Clean data: Replace empty strings with 0\n",
    "df.replace(\"\", 0, inplace=True)\n",
    "\n",
    "# Convert columns to specified data types\n",
    "for col, dtype in dtype_mapping.items():\n",
    "    df[col] = df[col].astype(dtype)\n",
    "\n",
    "# Clean data: Replace 0 values with column mean\n",
    "df[\"Weight(pounds)\"]=df[\"Weight(pounds)\"].replace(0, df[\"Weight(pounds)\"].mean())\n",
    "\n",
    "# Rename columns for convenience\n",
    "name_mapping = {\n",
    "    \"Name\": \"name\",\n",
    "    \"Team\": \"team\",\n",
    "    \"Position\": \"position\",\n",
    "    \"Height(inches)\": \"height\",\n",
    "    \"Weight(pounds)\": \"weight\",\n",
    "    \"Age\": \"age\"\n",
    "}\n",
    "\n",
    "df = df.rename(columns=name_mapping)"
   ]
  },
  {
   "cell_type": "code",
   "execution_count": 4,
   "metadata": {},
   "outputs": [
    {
     "data": {
      "text/html": [
       "<div>\n",
       "<style scoped>\n",
       "    .dataframe tbody tr th:only-of-type {\n",
       "        vertical-align: middle;\n",
       "    }\n",
       "\n",
       "    .dataframe tbody tr th {\n",
       "        vertical-align: top;\n",
       "    }\n",
       "\n",
       "    .dataframe thead th {\n",
       "        text-align: right;\n",
       "    }\n",
       "</style>\n",
       "<table border=\"1\" class=\"dataframe\">\n",
       "  <thead>\n",
       "    <tr style=\"text-align: right;\">\n",
       "      <th></th>\n",
       "      <th>height</th>\n",
       "      <th>weight</th>\n",
       "      <th>age</th>\n",
       "    </tr>\n",
       "  </thead>\n",
       "  <tbody>\n",
       "    <tr>\n",
       "      <th>count</th>\n",
       "      <td>1034.000000</td>\n",
       "      <td>1034.000000</td>\n",
       "      <td>1034.000000</td>\n",
       "    </tr>\n",
       "    <tr>\n",
       "      <th>mean</th>\n",
       "      <td>73.697292</td>\n",
       "      <td>201.689066</td>\n",
       "      <td>28.736712</td>\n",
       "    </tr>\n",
       "    <tr>\n",
       "      <th>std</th>\n",
       "      <td>2.305818</td>\n",
       "      <td>20.981329</td>\n",
       "      <td>4.320310</td>\n",
       "    </tr>\n",
       "    <tr>\n",
       "      <th>min</th>\n",
       "      <td>67.000000</td>\n",
       "      <td>150.000000</td>\n",
       "      <td>20.900000</td>\n",
       "    </tr>\n",
       "    <tr>\n",
       "      <th>25%</th>\n",
       "      <td>72.000000</td>\n",
       "      <td>187.000000</td>\n",
       "      <td>25.440000</td>\n",
       "    </tr>\n",
       "    <tr>\n",
       "      <th>50%</th>\n",
       "      <td>74.000000</td>\n",
       "      <td>200.000000</td>\n",
       "      <td>27.925000</td>\n",
       "    </tr>\n",
       "    <tr>\n",
       "      <th>75%</th>\n",
       "      <td>75.000000</td>\n",
       "      <td>215.000000</td>\n",
       "      <td>31.232500</td>\n",
       "    </tr>\n",
       "    <tr>\n",
       "      <th>max</th>\n",
       "      <td>83.000000</td>\n",
       "      <td>290.000000</td>\n",
       "      <td>48.520000</td>\n",
       "    </tr>\n",
       "  </tbody>\n",
       "</table>\n",
       "</div>"
      ],
      "text/plain": [
       "            height       weight          age\n",
       "count  1034.000000  1034.000000  1034.000000\n",
       "mean     73.697292   201.689066    28.736712\n",
       "std       2.305818    20.981329     4.320310\n",
       "min      67.000000   150.000000    20.900000\n",
       "25%      72.000000   187.000000    25.440000\n",
       "50%      74.000000   200.000000    27.925000\n",
       "75%      75.000000   215.000000    31.232500\n",
       "max      83.000000   290.000000    48.520000"
      ]
     },
     "execution_count": 4,
     "metadata": {},
     "output_type": "execute_result"
    }
   ],
   "source": [
    "# Show summary statistics\n",
    "df.describe()"
   ]
  },
  {
   "cell_type": "code",
   "execution_count": 5,
   "metadata": {},
   "outputs": [
    {
     "data": {
      "image/png": "[encoded data removed]",
      "text/plain": [
       "<Figure size 1000x500 with 2 Axes>"
      ]
     },
     "metadata": {},
     "output_type": "display_data"
    }
   ],
   "source": [
    "# Create a figure and two subplots\n",
    "fig, (ax1, ax2) = plt.subplots(1, 2, figsize=(10, 5))\n",
    "\n",
    "# Create boxplots for height and weight\n",
    "ax1.boxplot([df[\"weight\"]])\n",
    "ax1.set_ylabel(\"Height (Inches)\")\n",
    "ax1.set_title(\"MLB Player Heights\")\n",
    "ax1.set_xticks([1])\n",
    "ax1.set_xticklabels([\"Full Population\"])\n",
    "\n",
    "ax2.boxplot([df[\"weight\"]])\n",
    "ax2.set_ylabel(\"Weight (Pounds)\")\n",
    "ax2.set_title(\"MLB Player Weights\")\n",
    "ax2.set_xticks([1])\n",
    "ax2.set_xticklabels([\"Full Population\"])\n",
    "\n",
    "# Adjust layout and display the figure\n",
    "plt.tight_layout()\n",
    "plt.show()"
   ]
  },
  {
   "cell_type": "markdown",
   "metadata": {},
   "source": [
    "Whiskers are a maximum distance of 1.5 times the interquartile range from the upper or lower quartiles."
   ]
  },
  {
   "cell_type": "markdown",
   "metadata": {},
   "source": [
    "#### Random Samples\n",
    "\n"
   ]
  },
  {
   "cell_type": "code",
   "execution_count": 6,
   "metadata": {},
   "outputs": [],
   "source": [
    "sample1 = df.sample(n=30,random_state=8675309)\n",
    "\n",
    "sample2 = df.sample(n=30,random_state=1729)\n",
    "\n",
    "sample3 = [71, 72, 73, 74, 74, 76, 75, 75, 75, 76, 75, 77, 76, 75, 77, 76, 75, 76, 76, 75, 75, 81,77, 75, 77, 75, 77, 77, 75, 75]"
   ]
  },
  {
   "cell_type": "code",
   "execution_count": 7,
   "metadata": {},
   "outputs": [
    {
     "data": {
      "image/png": "[encoded data removed]",
      "text/plain": [
       "<Figure size 640x480 with 1 Axes>"
      ]
     },
     "metadata": {},
     "output_type": "display_data"
    }
   ],
   "source": [
    "# Plot the heights of two random samples and a third mystery sample\n",
    "fig1, ax1 = plt.subplots()\n",
    "ax1.boxplot([df[\"height\"],sample1[\"height\"],sample2[\"height\"],np.array(sample3)])\n",
    "ax1.set_ylabel(\"Height (Inches)\")\n",
    "plt.title(\"MLB Player Heights\")\n",
    "plt.xticks([1,2,3,4], [\"Full Population\",\"Sample 1\",\"Sample 2\",\"Sample 3\"])\n",
    "plt.show()"
   ]
  },
  {
   "cell_type": "code",
   "execution_count": 8,
   "metadata": {},
   "outputs": [
    {
     "name": "stdout",
     "output_type": "stream",
     "text": [
      "73.8\n",
      "74.36666666666666\n",
      "75.43333333333334\n"
     ]
    }
   ],
   "source": [
    "# What are the means of the three populations?\n",
    "print(np.mean(sample1[\"height\"]))\n",
    "print(np.mean(sample2[\"height\"]))\n",
    "print(np.mean(sample3))"
   ]
  },
  {
   "cell_type": "markdown",
   "metadata": {},
   "source": [
    "Do we believe that sample3 is a random sample from the same population as sample1 and sample2?\n",
    "\n",
    "Wen eeed to know what size differences we should expect between 1000 pairs of random samples from the population."
   ]
  },
  {
   "cell_type": "code",
   "execution_count": 9,
   "metadata": {},
   "outputs": [
    {
     "name": "stdout",
     "output_type": "stream",
     "text": [
      "[0.8333333333333286, -0.30000000000001137, -0.10000000000000853, -0.1666666666666572, 0.06666666666667709, -0.9666666666666686, 0.7999999999999972, 0.9333333333333371, -0.5333333333333314, -0.20000000000000284]\n"
     ]
    }
   ],
   "source": [
    "# Get a collection of 1000 sample pair means and their differences:\n",
    "alldifferences = []\n",
    "for i in range(1000):\n",
    "    newsample1 = df.sample(n=30, random_state=i*2)\n",
    "    newsample2 = df.sample(n=30, random_state=i*2 + 1)\n",
    "    alldifferences.append(newsample1[\"height\"].mean() - newsample2[\"height\"].mean())\n",
    "\n",
    "print(alldifferences[0:10])"
   ]
  },
  {
   "cell_type": "code",
   "execution_count": 10,
   "metadata": {},
   "outputs": [
    {
     "data": {
      "image/png": "[encoded data removed]",
      "text/plain": [
       "<Figure size 640x480 with 1 Axes>"
      ]
     },
     "metadata": {},
     "output_type": "display_data"
    }
   ],
   "source": [
    "# Draw the histogram of differences between means\n",
    "sns.set()\n",
    "ax = sns.histplot(alldifferences).set_title(\"Differences Between Sample Means\")\n",
    "plt.xlabel(\"Difference Between Means (Inches)\")\n",
    "plt.ylabel(\"Relative Frequency\")\n",
    "plt.show()"
   ]
  },
  {
   "cell_type": "code",
   "execution_count": 11,
   "metadata": {},
   "outputs": [
    {
     "name": "stdout",
     "output_type": "stream",
     "text": [
      "-1.63333333333334\n"
     ]
    }
   ],
   "source": [
    "# Difference between means of sample1 and sample3\n",
    "print(np.mean(sample1[\"height\"]) - np.mean(sample3))"
   ]
  },
  {
   "cell_type": "markdown",
   "metadata": {},
   "source": [
    "Given the low frequency of differences of this size, it seems improbable that sample3 was drawn from the same population.\n",
    "\n",
    "We can do a t-test for independent samples and compute the p-value:"
   ]
  },
  {
   "cell_type": "code",
   "execution_count": 12,
   "metadata": {},
   "outputs": [
    {
     "name": "stdout",
     "output_type": "stream",
     "text": [
      "T-statistic: -3.108694797644094\n",
      "P-value: 0.002910554741439718\n"
     ]
    }
   ],
   "source": [
    "# Perform a two-sample t-test for independent samples\n",
    "t_statistic, p_value = ttest_ind(sample1[\"height\"], sample3)\n",
    "\n",
    "print(\"T-statistic:\", t_statistic)\n",
    "print(\"P-value:\", p_value)"
   ]
  },
  {
   "cell_type": "markdown",
   "metadata": {},
   "source": [
    "With a p-value < 0.05, we reject the null hypothesis that sample3 came from the same population as sample1.\n",
    "\n",
    "Compare this to the t-test between sample1 and sample2:"
   ]
  },
  {
   "cell_type": "code",
   "execution_count": 13,
   "metadata": {},
   "outputs": [
    {
     "name": "stdout",
     "output_type": "stream",
     "text": [
      "T-statistic: -1.0839563860213952\n",
      "P-value: 0.2828695892305152\n"
     ]
    }
   ],
   "source": [
    "# Perform a two-sample t-test\n",
    "t_statistic, p_value = ttest_ind(sample1[\"height\"], sample2[\"height\"])\n",
    "\n",
    "print(\"T-statistic:\", t_statistic)\n",
    "print(\"P-value:\", p_value)"
   ]
  },
  {
   "cell_type": "markdown",
   "metadata": {},
   "source": [
    "We accept (until new evidence convinces us otherwise) that the sample1 and sample2 came from the sample population."
   ]
  },
  {
   "cell_type": "markdown",
   "metadata": {},
   "source": [
    "We would use `ttest_rel` instead if the observations in different samples have a meaningful relationship to each other, e.g. if they’re two different exam scores for the same student, or two different medical test results for the same patient."
   ]
  },
  {
   "cell_type": "markdown",
   "metadata": {},
   "source": [
    "The t-test is a _parameteric_ test and rests on the following assumptions:\n",
    "\n",
    "- sample means are normally distributed\n",
    "\n",
    "- sample variances should be identical (if they're not, we use _Welch's t-test_ by specifying `equal_var=False`)\n",
    "\n",
    "If we don't want to make these assumptions, we can use _nonparametric tests_ such as the _Mann-Whitney U test_:"
   ]
  },
  {
   "cell_type": "code",
   "execution_count": 14,
   "metadata": {},
   "outputs": [
    {
     "data": {
      "text/plain": [
       "MannwhitneyuResult(statistic=392.0, pvalue=0.38913738408151577)"
      ]
     },
     "execution_count": 14,
     "metadata": {},
     "output_type": "execute_result"
    }
   ],
   "source": [
    "# Perform mannwhitneyu between sample1 and sample2\n",
    "mannwhitneyu(sample1[\"height\"], sample2[\"height\"])"
   ]
  },
  {
   "cell_type": "markdown",
   "metadata": {},
   "source": [
    "#### Comparing Groups in a Practical Context\n",
    "\n",
    "We read in two mailing lists, one for desktop computer subscribers, the other for laptop computer subscribers:"
   ]
  },
  {
   "cell_type": "code",
   "execution_count": 16,
   "metadata": {},
   "outputs": [],
   "source": [
    "desktop = pd.read_csv(\"https://bradfordtuckfield.com/desktop.csv\")\n",
    "laptop = pd.read_csv(\"https://bradfordtuckfield.com/laptop.csv\")"
   ]
  },
  {
   "cell_type": "code",
   "execution_count": null,
   "metadata": {},
   "outputs": [],
   "source": []
  }
 ],
 "metadata": {
  "kernelspec": {
   "display_name": "pydata-book",
   "language": "python",
   "name": "python3"
  },
  "language_info": {
   "codemirror_mode": {
    "name": "ipython",
    "version": 3
   },
   "file_extension": ".py",
   "mimetype": "text/x-python",
   "name": "python",
   "nbconvert_exporter": "python",
   "pygments_lexer": "ipython3",
   "version": "3.10.10"
  },
  "orig_nbformat": 4
 },
 "nbformat": 4,
 "nbformat_minor": 2
}
